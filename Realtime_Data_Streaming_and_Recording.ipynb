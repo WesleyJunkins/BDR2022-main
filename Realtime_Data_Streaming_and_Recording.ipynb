{
 "cells": [
  {
   "cell_type": "code",
   "execution_count": 1,
   "id": "ca76c9b8-9de6-466c-8472-7853a490ba58",
   "metadata": {},
   "outputs": [],
   "source": [
    "from tensorflow import keras\n",
    "from pythonosc import dispatcher\n",
    "from pythonosc import osc_server\n",
    "import pandas as pd\n",
    "from collections import defaultdict\n",
    "import threading\n",
    "import numpy as np"
   ]
  },
  {
   "cell_type": "code",
   "execution_count": 2,
   "id": "ef22dbb0-6a69-4048-af4e-29f117f2ae37",
   "metadata": {},
   "outputs": [],
   "source": [
    "FEATURES = 20\n",
    "INTERVAL_TIME = 3\n",
    "SAMPLE_RATE = 256\n",
    "STREAMING_SAMPLE_RATE = 10"
   ]
  },
  {
   "cell_type": "code",
   "execution_count": 3,
   "id": "857ab824-01d1-40b9-a1e9-fb363df6e79f",
   "metadata": {},
   "outputs": [],
   "source": [
    "#ALL GLOBAL VARIABLES:\n",
    "hsi = [4,4,4,4]\n",
    "hsi_string = \"\"\n",
    "\n",
    "#Note: The names of the cols from muse device do not align with names in earlier files (Fp1 instead of AF7 and Fp2 instead of AF8)\n",
    "#Note2: Very important that this list is in the same order as for the earlier datasets as sklearn ML models do not change order!!\n",
    "cols = ['Delta_TP9','Delta_AF7','Delta_AF8','Delta_TP10',\n",
    "    'Theta_TP9','Theta_AF7','Theta_AF8','Theta_TP10',\n",
    "    'Alpha_TP9','Alpha_AF7','Alpha_AF8','Alpha_TP10',\n",
    "    'Beta_TP9','Beta_AF7','Beta_AF8','Beta_TP10',\n",
    "    'Gamma_TP9','Gamma_AF7','Gamma_AF8','Gamma_TP10']\n",
    "Vals = defaultdict(list, { k:[] for k in cols})"
   ]
  },
  {
   "cell_type": "code",
   "execution_count": 4,
   "id": "1a6f368e-a296-4617-ac39-b9f3c9428737",
   "metadata": {},
   "outputs": [],
   "source": [
    "datapoints = 0\n",
    "place = 0"
   ]
  },
  {
   "cell_type": "code",
   "execution_count": 5,
   "id": "24e36f1f-6c6b-4804-aedb-34db7559129b",
   "metadata": {},
   "outputs": [],
   "source": [
    "model = keras.models.load_model(\"C:\\\\Users\\\\Chanakya\\\\BDR 2022\\\\Saved_Models\\\\Model_1\")"
   ]
  },
  {
   "cell_type": "code",
   "execution_count": 6,
   "id": "c275384a-d85f-4b72-9333-5c9871c31760",
   "metadata": {},
   "outputs": [],
   "source": [
    "def hsi_handler(address: str,*args):\n",
    "    global hsi, hsi_string\n",
    "    hsi = args\n",
    "    if ((args[0]+args[1]+args[2]+args[3])==4):\n",
    "        hsi_string_new = \"Muse Fit Good\"\n",
    "    else:\n",
    "        hsi_string_new = \"Muse Fit Bad on: \"\n",
    "        if args[0]!=1:\n",
    "            hsi_string_new += \"Left Ear. \"\n",
    "        if args[1]!=1:\n",
    "            hsi_string_new += \"Left Forehead. \"\n",
    "        if args[2]!=1:\n",
    "            hsi_string_new += \"Right Forehead. \"\n",
    "        if args[3]!=1:\n",
    "            hsi_string_new += \"Right Ear.\"        \n",
    "    if hsi_string!=hsi_string_new:\n",
    "        hsi_string = hsi_string_new\n",
    "        print(hsi_string)  "
   ]
  },
  {
   "cell_type": "code",
   "execution_count": 7,
   "id": "e720fb97-a4f9-40e7-9db8-ba5e9f4c59d8",
   "metadata": {},
   "outputs": [],
   "source": [
    "def wave_handler(address: str,*args):\n",
    "    global Vals, datapoints, model, cols\n",
    "    wave = args[0][0]\n",
    "\n",
    "    channels = ['TP9', 'AF7', 'AF8', 'TP10']\n",
    "\n",
    "    for i in [0,1,2,3]: # for each of the 4 sensors update the specific brain wave data (delta, theta etc)\n",
    "        key = wave + '_' + channels[i]\n",
    "        Vals[key].append(args[i+1]) #add values to dict\n",
    "        datapoints +=1\n",
    "\n",
    "    # we have 20 features, and we want to have 3 seconds of data, data comes in 10Hz, so we first have to add 20x30=600 datapoints before moving on\n",
    "    if datapoints == FEATURES * INTERVAL_TIME * STREAMING_SAMPLE_RATE:\n",
    "        # step 1: create dataframe\n",
    "        # we add datetime to the df as this makes it compatible with our earlier code\n",
    "        df= pd.DataFrame.from_dict(Vals)\n",
    "        print(df)\n",
    "        \n",
    "        limited_input = df.to_numpy()\n",
    "        \n",
    "        # print(limited_input)\n",
    "        # print(limited_input.shape)\n",
    "        \n",
    "        input = np.zeros((1, SAMPLE_RATE * INTERVAL_TIME, FEATURES))\n",
    "        for i in range(SAMPLE_RATE * INTERVAL_TIME):\n",
    "            # print(i, min(len(limited_input)-1, int(i//(SAMPLE_RATE / STREAMING_SAMPLE_RATE))))\n",
    "            input[0][i] = limited_input[min(len(limited_input)-1, int(i//(SAMPLE_RATE / STREAMING_SAMPLE_RATE)))]\n",
    "        \n",
    "        \n",
    "        pred = model.predict(input)\n",
    "        # proba = model.predict_proba(input)\n",
    "        print(pred)\n",
    "        print(pred.shape)\n",
    "        # print(proba)\n",
    "        \n",
    "        datapoints = 0\n",
    "        Vals = defaultdict(list, {k :[] for k in cols})\n",
    "        \n",
    "#         input = df.to_numpy()\n",
    "\n",
    "#         # step 4: predict\n",
    "#         pred = rf_model.predict(input)\n",
    "#         proba = rf_model.predict_proba(input)\n",
    "#         print(pred)\n",
    "#         print(proba)\n",
    "\n",
    "#         # step 5: update graph     \n",
    "#         plot_update(pred)\n",
    "\n",
    "#         #step 6: now, we reinit datapoints and the Vals dict and start again\n",
    "#         datapoints = 0\n",
    "#         Vals = defaultdict(list, { k:[] for k in cols})"
   ]
  },
  {
   "cell_type": "code",
   "execution_count": 8,
   "id": "4b10419c-294a-49aa-bc10-5546d61d2db0",
   "metadata": {},
   "outputs": [],
   "source": [
    "def init_plot():\n",
    "    ani = FuncAnimation(plt.gcf(), plot_update, interval=100) #update every 1 sec\n",
    "    plt.show()"
   ]
  },
  {
   "cell_type": "code",
   "execution_count": 9,
   "id": "41a4607d-c686-4c65-a4ee-a42803da80eb",
   "metadata": {},
   "outputs": [],
   "source": [
    "def plot_update(prediction):\n",
    "    global place\n",
    "\n",
    "    plt.cla()\n",
    "\n",
    "    if prediction == 'label_left':\n",
    "        place -= 1\n",
    "    if prediction == 'label_right':\n",
    "        place += 1 \n",
    "    plt.plot(place,0,'ro')\n",
    "    plt.xlim([-10,10])\n",
    "    plt.xticks(np.arange(-10,10,1))\n",
    "    plt.yticks([])"
   ]
  },
  {
   "cell_type": "code",
   "execution_count": null,
   "id": "4e86c3ea-7e3f-410d-b879-fd522b97f29e",
   "metadata": {},
   "outputs": [],
   "source": [
    "if __name__ == \"__main__\":\n",
    "    \n",
    "    # CHANGE THIS\n",
    "    ip = \"10.122.126.40\"\n",
    "    port = 5003\n",
    "    \n",
    "    thread = threading.Thread(target=init_plot)\n",
    "    thread.daemon = True\n",
    "    thread.start()\n",
    "\n",
    "    #Init Muse Listeners    \n",
    "    dispatcher = dispatcher.Dispatcher()\n",
    "    dispatcher.map(\"/muse/elements/horseshoe\", hsi_handler)\n",
    "    \n",
    "    dispatcher.map(\"/muse/elements/delta_absolute\", wave_handler,'Delta')\n",
    "    dispatcher.map(\"/muse/elements/theta_absolute\", wave_handler,'Theta')\n",
    "    dispatcher.map(\"/muse/elements/alpha_absolute\", wave_handler,'Alpha')\n",
    "    dispatcher.map(\"/muse/elements/beta_absolute\", wave_handler,'Beta')\n",
    "    dispatcher.map(\"/muse/elements/gamma_absolute\", wave_handler,'Gamma')\n",
    "\n",
    "    server = osc_server.ThreadingOSCUDPServer((ip, port), dispatcher)\n",
    "    print(\"Listening on UDP port \"+str(port))\n",
    "    server.serve_forever()\n",
    "    "
   ]
  },
  {
   "cell_type": "code",
   "execution_count": null,
   "id": "bdf4c678-fb1b-4c75-bf3d-fda63baf7e22",
   "metadata": {},
   "outputs": [],
   "source": []
  }
 ],
 "metadata": {
  "kernelspec": {
   "display_name": "Python 3 (ipykernel)",
   "language": "python",
   "name": "python3"
  },
  "language_info": {
   "codemirror_mode": {
    "name": "ipython",
    "version": 3
   },
   "file_extension": ".py",
   "mimetype": "text/x-python",
   "name": "python",
   "nbconvert_exporter": "python",
   "pygments_lexer": "ipython3",
   "version": "3.9.15"
  }
 },
 "nbformat": 4,
 "nbformat_minor": 5
}
